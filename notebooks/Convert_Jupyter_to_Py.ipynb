{
 "cells": [
  {
   "cell_type": "markdown",
   "id": "ebed079a",
   "metadata": {},
   "source": [
    "# Convert ipynb file to py file\n",
    "\n",
    "We can run the following code in notebook, or we can run this in the *terminal*:\n",
    "\n",
    "jupyter nbconvert --to python main_Train_MFLSTM_hourly_de.ipynb --output test.py"
   ]
  },
  {
   "cell_type": "code",
   "execution_count": null,
   "id": "a5a3bfed",
   "metadata": {},
   "outputs": [],
   "source": [
    "# install the nbconvert package if it is not already done\n",
    "\n",
    "# !pip install nbconvert"
   ]
  },
  {
   "cell_type": "code",
   "execution_count": 4,
   "id": "10508f7d-d131-49ec-8c63-d6d052196876",
   "metadata": {},
   "outputs": [
    {
     "name": "stderr",
     "output_type": "stream",
     "text": [
      "[NbConvertApp] Converting notebook LSTM_Forecast_DE.ipynb to python\n",
      "[NbConvertApp] Writing 21749 bytes to LSTM_Forecast_DE.py\n"
     ]
    }
   ],
   "source": [
    "import sys\n",
    "!{sys.executable} -m jupyter nbconvert --to python LSTM_Forecast_DE.ipynb --output LSTM_Forecast_DE.py"
   ]
  },
  {
   "cell_type": "code",
   "execution_count": null,
   "id": "b3ec2214",
   "metadata": {},
   "outputs": [],
   "source": []
  }
 ],
 "metadata": {
  "kernelspec": {
   "display_name": "HY3.11",
   "language": "python",
   "name": "python3"
  },
  "language_info": {
   "codemirror_mode": {
    "name": "ipython",
    "version": 3
   },
   "file_extension": ".py",
   "mimetype": "text/x-python",
   "name": "python",
   "nbconvert_exporter": "python",
   "pygments_lexer": "ipython3",
   "version": "3.11.7"
  }
 },
 "nbformat": 4,
 "nbformat_minor": 5
}
