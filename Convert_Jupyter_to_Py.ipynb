{
 "cells": [
  {
   "cell_type": "markdown",
   "id": "ebed079a",
   "metadata": {},
   "source": [
    "# Convert ipynb file to py file\n",
    "\n",
    "We can run the following code in notebook, or we can run this in the *terminal*:\n",
    "\n",
    "jupyter nbconvert --to python main_Train_MFLSTM_hourly_de.ipynb --output test.py"
   ]
  },
  {
   "cell_type": "code",
   "execution_count": 2,
   "id": "10508f7d-d131-49ec-8c63-d6d052196876",
   "metadata": {},
   "outputs": [
    {
     "name": "stderr",
     "output_type": "stream",
     "text": [
      "[NbConvertApp] Converting notebook main_Train_MFLSTM_hourly_US.ipynb to python\n",
      "[NbConvertApp] Writing 29087 bytes to 1_days.py\n"
     ]
    }
   ],
   "source": [
    "import sys\n",
    "# !{sys.executable} -m jupyter nbconvert --to python LSTM_CAMELS_DE_hourly.ipynb --output Alex_Edu_test.py\n",
    "# !{sys.executable} -m jupyter nbconvert --to python main_Evaluation_MFLSTM_hourly_de.ipynb --output Mytest.py\n",
    "!{sys.executable} -m jupyter nbconvert --to python main_Train_MFLSTM_hourly_US.ipynb --output 1_days.py"
   ]
  },
  {
   "cell_type": "code",
   "execution_count": null,
   "id": "b3ec2214",
   "metadata": {},
   "outputs": [],
   "source": []
  }
 ],
 "metadata": {
  "kernelspec": {
   "display_name": "HY3.9",
   "language": "python",
   "name": "python3"
  },
  "language_info": {
   "codemirror_mode": {
    "name": "ipython",
    "version": 3
   },
   "file_extension": ".py",
   "mimetype": "text/x-python",
   "name": "python",
   "nbconvert_exporter": "python",
   "pygments_lexer": "ipython3",
   "version": "3.9.18"
  }
 },
 "nbformat": 4,
 "nbformat_minor": 5
}
